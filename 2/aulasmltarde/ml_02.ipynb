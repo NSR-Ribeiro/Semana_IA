{
 "cells": [
  {
   "cell_type": "code",
   "execution_count": 2,
   "metadata": {},
   "outputs": [
    {
     "name": "stdout",
     "output_type": "stream",
     "text": [
      "Collecting pandas\n",
      "  Using cached pandas-2.2.3-cp312-cp312-win_amd64.whl.metadata (19 kB)\n",
      "Requirement already satisfied: numpy>=1.26.0 in c:\\users\\ead\\desktop\\2\\aulasmltarde\\.venv\\lib\\site-packages (from pandas) (2.1.1)\n",
      "Requirement already satisfied: python-dateutil>=2.8.2 in c:\\users\\ead\\desktop\\2\\aulasmltarde\\.venv\\lib\\site-packages (from pandas) (2.9.0.post0)\n",
      "Collecting pytz>=2020.1 (from pandas)\n",
      "  Using cached pytz-2024.2-py2.py3-none-any.whl.metadata (22 kB)\n",
      "Collecting tzdata>=2022.7 (from pandas)\n",
      "  Using cached tzdata-2024.2-py2.py3-none-any.whl.metadata (1.4 kB)\n",
      "Requirement already satisfied: six>=1.5 in c:\\users\\ead\\desktop\\2\\aulasmltarde\\.venv\\lib\\site-packages (from python-dateutil>=2.8.2->pandas) (1.16.0)\n",
      "Using cached pandas-2.2.3-cp312-cp312-win_amd64.whl (11.5 MB)\n",
      "Using cached pytz-2024.2-py2.py3-none-any.whl (508 kB)\n",
      "Using cached tzdata-2024.2-py2.py3-none-any.whl (346 kB)\n",
      "Installing collected packages: pytz, tzdata, pandas\n",
      "Successfully installed pandas-2.2.3 pytz-2024.2 tzdata-2024.2\n"
     ]
    }
   ],
   "source": [
    "! pip install pandas\n"
   ]
  },
  {
   "cell_type": "code",
   "execution_count": 3,
   "metadata": {},
   "outputs": [],
   "source": [
    "import pandas as pd\n"
   ]
  },
  {
   "cell_type": "code",
   "execution_count": 4,
   "metadata": {},
   "outputs": [
    {
     "name": "stdout",
     "output_type": "stream",
     "text": [
      "   inicial  palestras  contato  comprou  patrocinio\n",
      "0        1          1        0        0           0\n",
      "1        1          1        0        0           0\n",
      "2        1          1        0        0           0\n",
      "3        1          1        0        0           0\n",
      "4        1          1        0        0           0\n",
      "<class 'pandas.core.frame.DataFrame'>\n",
      "RangeIndex: 99 entries, 0 to 98\n",
      "Data columns (total 5 columns):\n",
      " #   Column      Non-Null Count  Dtype\n",
      "---  ------      --------------  -----\n",
      " 0   inicial     99 non-null     int64\n",
      " 1   palestras   99 non-null     int64\n",
      " 2   contato     99 non-null     int64\n",
      " 3   comprou     99 non-null     int64\n",
      " 4   patrocinio  99 non-null     int64\n",
      "dtypes: int64(5)\n",
      "memory usage: 4.0 KB\n",
      "None\n",
      "         inicial  palestras    contato    comprou  patrocinio\n",
      "count  99.000000  99.000000  99.000000  99.000000   99.000000\n",
      "mean    0.535354   0.404040   0.626263   0.333333    0.050505\n",
      "std     0.501287   0.493203   0.486257   0.473804    0.220099\n",
      "min     0.000000   0.000000   0.000000   0.000000    0.000000\n",
      "25%     0.000000   0.000000   0.000000   0.000000    0.000000\n",
      "50%     1.000000   0.000000   1.000000   0.000000    0.000000\n",
      "75%     1.000000   1.000000   1.000000   1.000000    0.000000\n",
      "max     1.000000   1.000000   1.000000   1.000000    1.000000\n",
      "Acurácia: 93.33%\n",
      "              precision    recall  f1-score   support\n",
      "\n",
      "           0       0.89      1.00      0.94        17\n",
      "           1       1.00      0.85      0.92        13\n",
      "\n",
      "    accuracy                           0.93        30\n",
      "   macro avg       0.95      0.92      0.93        30\n",
      "weighted avg       0.94      0.93      0.93        30\n",
      "\n",
      "Importância da variável inicial: 0.6386\n",
      "Importância da variável palestras: 0.1624\n",
      "Importância da variável contato: 0.1989\n"
     ]
    }
   ],
   "source": [
    "import pandas as pd\n",
    "from sklearn.model_selection import train_test_split\n",
    "from sklearn.ensemble import RandomForestClassifier\n",
    "from sklearn.metrics import classification_report, accuracy_score\n",
    "\n",
    "# Etapa 1: Carregar o conjunto de dados\n",
    "url = \"https://raw.githubusercontent.com/romulosilvestre/semanamachinelearning-datasets/main/tracking.csv\"\n",
    "df = pd.read_csv(url)\n",
    "\n",
    "# Etapa 2: Visão geral dos dados\n",
    "print(df.head())  # Primeiras 5 linhas\n",
    "print(df.info())  # Informações do conjunto de dados e valores ausentes\n",
    "print(df.describe())  # Estatísticas básicas\n",
    "\n",
    "# Etapa 3: Dividir os dados em variáveis independentes (X) e alvo (y)\n",
    "# Aqui estamos considerando que o comportamento de clicar em páginas (inicial, palestras, contato) influencia a compra\n",
    "X = df[['inicial', 'palestras', 'contato']]  # Variáveis independentes (comportamento no site)\n",
    "y = df['comprou']  # Variável alvo (se comprou ou não)\n",
    "\n",
    "# Etapa 4: Dividir em conjuntos de treino e teste\n",
    "X_train, X_test, y_train, y_test = train_test_split(X, y, test_size=0.3, random_state=42)\n",
    "\n",
    "# Etapa 5: Treinar um classificador Random Forest\n",
    "modelo = RandomForestClassifier(random_state=42)\n",
    "modelo.fit(X_train, y_train)\n",
    "\n",
    "# Etapa 6: Fazer previsões\n",
    "y_pred = modelo.predict(X_test)\n",
    "\n",
    "# Etapa 7: Avaliar o modelo\n",
    "acuracia = accuracy_score(y_test, y_pred)\n",
    "print(f\"Acurácia: {acuracia * 100:.2f}%\")\n",
    "print(classification_report(y_test, y_pred))\n",
    "\n",
    "# Extra: Visualizar a importância das variáveis\n",
    "importances = modelo.feature_importances_\n",
    "for feature, importance in zip(X.columns, importances):\n",
    "    print(f\"Importância da variável {feature}: {importance:.4f}\")\n"
   ]
  }
 ],
 "metadata": {
  "kernelspec": {
   "display_name": ".venv",
   "language": "python",
   "name": "python3"
  },
  "language_info": {
   "codemirror_mode": {
    "name": "ipython",
    "version": 3
   },
   "file_extension": ".py",
   "mimetype": "text/x-python",
   "name": "python",
   "nbconvert_exporter": "python",
   "pygments_lexer": "ipython3",
   "version": "3.12.7"
  }
 },
 "nbformat": 4,
 "nbformat_minor": 2
}
